{
 "cells": [
  {
   "cell_type": "markdown",
   "id": "2c895c82",
   "metadata": {},
   "source": [
    "## Python"
   ]
  },
  {
   "cell_type": "code",
   "execution_count": null,
   "id": "ad9b2e46",
   "metadata": {},
   "outputs": [],
   "source": [
    "#pip-Preferred Installer Program(install and manages python packages)\n",
    "pip install jupyter"
   ]
  },
  {
   "cell_type": "code",
   "execution_count": null,
   "id": "ea452fa1",
   "metadata": {},
   "outputs": [],
   "source": [
    "python -m noteboook #opening jupyter notebook in chrome"
   ]
  },
  {
   "cell_type": "code",
   "execution_count": null,
   "id": "2ce9d817",
   "metadata": {},
   "outputs": [],
   "source": [
    "#interpreted, object-priented, high level language\n",
    "invented by Guido Van Rossum"
   ]
  },
  {
   "cell_type": "code",
   "execution_count": null,
   "id": "993db7e3",
   "metadata": {},
   "outputs": [],
   "source": [
    "##python interpreter\n",
    "print(\"which will convert our code in binary form\")\n",
    "##Integrated Development Environment(Text editor)\n",
    "print(\"place where we will write our code,run and debug\\n\"\n",
    "\"ex-Pycharm,IDLE,jupyter notebook\")"
   ]
  },
  {
   "cell_type": "markdown",
   "id": "8e95ffe6",
   "metadata": {},
   "source": [
    "## Features of python"
   ]
  },
  {
   "cell_type": "code",
   "execution_count": 6,
   "id": "77941bfd",
   "metadata": {},
   "outputs": [
    {
     "name": "stdout",
     "output_type": "stream",
     "text": [
      "simple and easy to learn\n",
      "free and open source\n",
      "high level language\n",
      "GUI programming support\n",
      "interactive and interpreted\n",
      "broad standard library(for ML, use of packages)\n"
     ]
    }
   ],
   "source": [
    "print(\"simple and easy to learn\\n\"\n",
    "\"free and open source\\n\"\n",
    "\"high level language\\n\"\n",
    "\"GUI programming support\\n\"\n",
    "\"interactive and interpreted\\n\"\n",
    "\"broad standard library(for ML, use of packages)\")"
   ]
  },
  {
   "cell_type": "markdown",
   "id": "b8825c66",
   "metadata": {},
   "source": [
    "## limitations of python"
   ]
  },
  {
   "cell_type": "code",
   "execution_count": 7,
   "id": "cfdbf94e",
   "metadata": {},
   "outputs": [
    {
     "name": "stdout",
     "output_type": "stream",
     "text": [
      "slower than C/C++\n",
      "lacks true multiprocessor support\n",
      "not for developing games\n",
      "parallel processing not elegant\n"
     ]
    }
   ],
   "source": [
    "print(\"slower than C/C++ due to interpreted language\\n\"\n",
    "     \"lacks true multiprocessor support\\n\"\n",
    "     \"not for developing games\\n\"\n",
    "     \"parallel processing not elegant\")"
   ]
  },
  {
   "cell_type": "markdown",
   "id": "475031c5",
   "metadata": {},
   "source": [
    "## Applications"
   ]
  },
  {
   "cell_type": "markdown",
   "id": "864fa53d",
   "metadata": {},
   "source": [
    "# **network programming**\n",
    "\n",
    "*data analysis*\n",
    "* robotics\n",
    "* data visualization\n",
    "* ML and AI\n",
    "* game development"
   ]
  },
  {
   "cell_type": "code",
   "execution_count": 1,
   "id": "76136be7",
   "metadata": {},
   "outputs": [],
   "source": [
    "#python has two modes\n",
    "#script(.py)\n",
    "#interactive(shell)"
   ]
  },
  {
   "cell_type": "markdown",
   "id": "0f2fb939",
   "metadata": {},
   "source": [
    "## 33 Keywords in python\n",
    "\"\"\"False, class, finally, is, return, none, continue,\n",
    "\n",
    "for, lambda, try, True, def, from, nonlocal, while,\n",
    "\n",
    "and, del, global, not, with, as, elif, if, or, yield,\n",
    "\n",
    "assert, else, import, pass, break, except, in, raise\n",
    "\"\"\""
   ]
  },
  {
   "cell_type": "markdown",
   "id": "294975cd",
   "metadata": {},
   "source": [
    "## Basics"
   ]
  },
  {
   "cell_type": "code",
   "execution_count": 23,
   "id": "af74bddf",
   "metadata": {},
   "outputs": [
    {
     "name": "stdout",
     "output_type": "stream",
     "text": [
      "16\n",
      "<class 'str'>\n",
      "<class 'bool'>\n",
      "8\n",
      "hello mam\n",
      "3.3333333333333335\n",
      "3\n",
      "Nvin's laptop\n",
      "\\naviin\n",
      "0b11001 0x19\n",
      "9\n"
     ]
    }
   ],
   "source": [
    "# \"#\"-comments(non-executable statements)\n",
    "print(4**2)\n",
    "a=\"hello\"\n",
    "z=True\n",
    "print(type(a))\n",
    "print(type(z))\n",
    "print(4+4)\n",
    "print(\"hello\"+\" mam\")\n",
    "#(\"hello\"+4)-error\n",
    "True+False\n",
    "#str()-convert the variables to strings\n",
    "#float()-convert the variables to floats\n",
    "print(10/3) #float values\n",
    "print(10//3) #int values\n",
    "_+1 # _ indicates previous output\n",
    "print('Nvin\\'s laptop') #\\ ignores the special meaning of the quotes\n",
    "print(r\"\\naviin\") #r-raw string\n",
    "print(bin(25),hex(25))\n",
    "print(0b1001)"
   ]
  },
  {
   "cell_type": "code",
   "execution_count": 2,
   "id": "bc7d0acf",
   "metadata": {},
   "outputs": [
    {
     "name": "stdout",
     "output_type": "stream",
     "text": [
      "hello1"
     ]
    }
   ],
   "source": [
    "#Actual Syntax of the print() function\n",
    "print(\"hello\",sep=\"$\",end=\"1\\n\")"
   ]
  },
  {
   "cell_type": "code",
   "execution_count": null,
   "id": "6cb03114",
   "metadata": {},
   "outputs": [],
   "source": [
    "#Indentation\n",
    "whitespace at the beginning of the line."
   ]
  },
  {
   "cell_type": "markdown",
   "id": "df287e6d",
   "metadata": {},
   "source": [
    "## Bitwise operators"
   ]
  },
  {
   "cell_type": "code",
   "execution_count": 32,
   "id": "63cba1a9",
   "metadata": {},
   "outputs": [
    {
     "name": "stdout",
     "output_type": "stream",
     "text": [
      "0\n",
      "14\n",
      "-11\n",
      "14\n",
      "40\n",
      "2\n"
     ]
    }
   ],
   "source": [
    "a=10 #0000 1010\n",
    "b=4 #0000 0100\n",
    "print(a&b) #bitwise AND (returns 1 if both inputs are 1's)\n",
    "print(a|b) #bitwise OR\n",
    "print(~a) #bitwise NOT(2 COMPLEMENT)\n",
    "print(a^b) #bitwise XOR (returns 1 if both inputs are different)\n",
    "print(a<<2) #bitwise left shift\n",
    "print(a>>2) #bitwise right shift"
   ]
  },
  {
   "cell_type": "markdown",
   "id": "7974b77b",
   "metadata": {},
   "source": [
    "## Functions and Methods"
   ]
  },
  {
   "cell_type": "code",
   "execution_count": 1,
   "id": "65e33347",
   "metadata": {},
   "outputs": [
    {
     "name": "stdout",
     "output_type": "stream",
     "text": [
      "5\n",
      "10.0\n",
      "(4+5j)\n",
      "12153104\n"
     ]
    }
   ],
   "source": [
    "#functions- piece of reusable code, solves particular task, call function instead of writing code\n",
    "#type(), print()\n",
    "print(len(\"hello\")) #prints the length of the string\n",
    "print(round(12.5,-1))\n",
    "print(complex(4,5))\n",
    "a=10\n",
    "print(id(a)) #address/memory location of the variable a\n",
    "#methods- call functions specific to python objects(functions that belong to objects)\n",
    "#str----capitalize(), replace(), upper()\n",
    "#float--bit_length(), conjugate()\n",
    "#list--index(), count()"
   ]
  },
  {
   "cell_type": "code",
   "execution_count": 1,
   "id": "9bcee2ae",
   "metadata": {},
   "outputs": [
    {
     "name": "stdout",
     "output_type": "stream",
     "text": [
      "P\n",
      "a\n",
      " Chan\n",
      "My name is  Pakhi Changia\n",
      "Pakhi Goyal\n"
     ]
    },
    {
     "data": {
      "text/plain": [
       "False"
      ]
     },
     "execution_count": 1,
     "metadata": {},
     "output_type": "execute_result"
    }
   ],
   "source": [
    "#Extraction subsets of strings by using the slice operator[]\n",
    "name=\"Pakhi Changia\"\n",
    "print(name[0]) #indexing starts with zero\n",
    "print(name[-1])\n",
    "print(name[5:10]) #[start:end] or [inclusive:exclusive]\n",
    "print(\"My name is \",name)\n",
    "#strings in python are not mutable i.e. name[3]=k gives the error\n",
    "name=name.replace(\"Changia\",\"Goyal\")\n",
    "print(name)\n",
    "bool()\n"
   ]
  },
  {
   "cell_type": "markdown",
   "id": "6aabd3b5",
   "metadata": {},
   "source": [
    "## Objects/Data Structures"
   ]
  },
  {
   "cell_type": "markdown",
   "id": "923da9e8",
   "metadata": {},
   "source": [
    "### lists"
   ]
  },
  {
   "cell_type": "code",
   "execution_count": 93,
   "id": "a8477fac",
   "metadata": {},
   "outputs": [
    {
     "name": "stdout",
     "output_type": "stream",
     "text": [
      "[1, 2, 3, 'a', 'b', 'c']\n",
      "<class 'list'>\n",
      "[[1, 2, 3], ['a', 'b', 'c']]\n",
      "['a', 'b', 'c']\n",
      "[[1, 2, 3]]\n",
      "5\n",
      "[4, 5, 6, 6, 7, 8]\n",
      "[[0, 1, 2], ['a', 'b', 'c']]\n",
      "[[0, 1, 2], ['a', 'b', 'c'], 'A', 'B', 'C']\n",
      "[[0, 1, 2], ['a', 'b', 'c'], ['A', 'B', 'C']]\n",
      "[1, 2, 'a', 'b', 'c']\n",
      "<class 'list'>\n",
      "2\n",
      "[1, 2, 'a', 'b', 'c']\n"
     ]
    }
   ],
   "source": [
    "#python lists- mutable,or changeable and ordered sequence,comma separated values, each element is called an item\n",
    "lst=[] #slice operator\n",
    "# we can create a list by using an inbuilt function i.e. list()\n",
    "list1=[1,2,3,\"a\",\"b\",\"c\"] #any data type\n",
    "list3=[4,5,6]\n",
    "list4=[6,7,8]\n",
    "print(list1)\n",
    "print(type(list1))\n",
    "list2=[[1,2,3],[\"a\",\"b\",\"c\"]]\n",
    "print(list2)\n",
    "print(list2[1]) \n",
    "print(list2[0:1])\n",
    "print(list1[1]+list1[2]) #calculations element to element calculations\n",
    "print(list3+list4) #concatenate\n",
    "list2[0:1]=[[0,1,2]] #change list items\n",
    "print(list2)\n",
    "print(list2+[\"A\",\"B\",\"C\"]) #adding list items\n",
    "print(list2+[[\"A\",\"B\",\"C\"]])\n",
    "del(list1[2]) #deleting list items\n",
    "print(list1)\n",
    "print(type([]))\n",
    "print(len(list2))\n",
    "print(list1[:])"
   ]
  },
  {
   "cell_type": "code",
   "execution_count": 92,
   "id": "bf336db8",
   "metadata": {},
   "outputs": [
    {
     "name": "stdout",
     "output_type": "stream",
     "text": [
      "[1, 2, 3, 'a', 'b', 'c', 'd']\n",
      "[1, 2, 3, 'a', 'b', 'c', 'd', [4, 5]]\n",
      "[1, 2, 3, 'a', 'b', 'c', 'd', [4, 5], 4, 5]\n",
      "[1, 2, 3, 4, 'a', 'b', 'c', 'd', [4, 5], 4, 5]\n",
      "4\n",
      "2\n",
      "[1, 2, 3, 4, 'a', 'b', 'c', 'd', [4, 5], 4, 5]\n",
      "12 5\n",
      "[1, 2, 3, 4, 'a', 'b', 'c', 'd', [4, 5], 4]\n",
      "3\n",
      "1\n",
      "23\n",
      "[1, 2, 2, 3, 4, 5, 6]\n",
      "[2, 4, 6, 8]\n"
     ]
    },
    {
     "data": {
      "text/plain": [
       "[1, 2, 2, 3, 4, 5, 6, 1, 2, 2, 3, 4, 5, 6]"
      ]
     },
     "execution_count": 92,
     "metadata": {},
     "output_type": "execute_result"
    }
   ],
   "source": [
    "#functions and methods in lists\n",
    "list1=[1,2,3,\"a\",\"b\",\"c\"]\n",
    "list2=[1,3,4,5,2,2,6]\n",
    "list1.append(\"d\") #add at the end of the list\n",
    "print(list1)\n",
    "list1.append([4,5]) #nested list\n",
    "print(list1)\n",
    "list1.extend([4,5])\n",
    "print(list1)\n",
    "list1.insert(3,4) #insert at index number 3, the value 4\n",
    "print(list1)\n",
    "print(list1.index(\"a\")) #tells the index number of the char \"a\". we can also state first and last value index.\n",
    "print(list2.count(2)) #occurrence of the value 2\n",
    "print(list1)\n",
    "print(\"12\",list1.pop()) #extracts the last value by default and then removes that value\n",
    "print(list1)\n",
    "print(list1.pop(2)) #extracts the value at index number 2\n",
    "print(min(list2)) #minimum value of the list\n",
    "print(sum(list2)) #sum of the list\n",
    "list2.sort() #sorting the values\n",
    "print(list2)\n",
    "print(list(range(2,10,2))) #range(start_value,end_value,difference)\n",
    "list2*2"
   ]
  },
  {
   "cell_type": "code",
   "execution_count": 28,
   "id": "52f59f81",
   "metadata": {},
   "outputs": [
    {
     "name": "stdout",
     "output_type": "stream",
     "text": [
      "[1, 4, 3]\n",
      "[1, 4, 3]\n",
      "[1, 4, 3]\n",
      "[1, 2, 3]\n"
     ]
    }
   ],
   "source": [
    "#Reference based copy\n",
    "x=[1,2,3]\n",
    "y=x\n",
    "y[1]=4\n",
    "print(y)\n",
    "print(x) \n",
    "#Explicit copy\n",
    "a=[1,2,3]\n",
    "b=list(a) # we can also use b=a[:]\n",
    "b[1]=4\n",
    "print(b)\n",
    "print(a)"
   ]
  },
  {
   "cell_type": "markdown",
   "id": "e19512f7",
   "metadata": {},
   "source": [
    "### Tuples"
   ]
  },
  {
   "cell_type": "code",
   "execution_count": 2,
   "id": "9d6b49a2",
   "metadata": {},
   "outputs": [
    {
     "name": "stdout",
     "output_type": "stream",
     "text": [
      "(1, 2, 3, 4, 3)\n",
      "2\n",
      "1\n"
     ]
    }
   ],
   "source": [
    "tup=() \n",
    "#not mutable\n",
    "tup1=(1,2,3,4,3)\n",
    "print(tup1)\n",
    "#not mutable i.e tup[1]=3 gives the error, I can replace whole tuple.\n",
    "#iteration is faster in tuples than in list\n",
    "print(tup1.count(3)) #counts the occurrence of value 3\n",
    "print(tup1.index(2)) #tells the index number of value 2"
   ]
  },
  {
   "cell_type": "markdown",
   "id": "d4e67995",
   "metadata": {},
   "source": [
    "### Sets"
   ]
  },
  {
   "cell_type": "code",
   "execution_count": 99,
   "id": "4ec1fe00",
   "metadata": {},
   "outputs": [
    {
     "name": "stdout",
     "output_type": "stream",
     "text": [
      "{1, 2, 3, 4, 5}\n",
      "{8, 6}\n",
      "{8, 6}\n",
      "{4}\n",
      "{4}\n",
      "15\n",
      "1\n",
      "{1, 2, 3, 4}\n"
     ]
    }
   ],
   "source": [
    "S={} #collection of unordered unique elements, iterable, mutable\n",
    "#we can create a set by using an inbuilt function set()\n",
    "S1={1,2,3,4}\n",
    "S2={4,6,8}\n",
    "#sets never follow a sequence, indexing not there S[2]=3 gives the error\n",
    "#elements are not mutable but the whole set itself is mutable\n",
    "#based on a data structure known as hash table\n",
    "#In computing, a hash table (hash map) is a data structure that implements an associative array abstract data type, a structure that can map keys to values. \n",
    "#no indexing\n",
    "S1.add(5)\n",
    "print(S1)\n",
    "print(S2.difference(S1)) #extract the different elements in S2 from S1\n",
    "S2.difference_update(S1) #updating the values in S2\n",
    "print(S2)\n",
    "S2={4,6,8}\n",
    "print(S2.intersection(S1)) #extract the common elements in S2 from S1\n",
    "S2.intersection_update(S1) #updating the values in S2\n",
    "print(S2)\n",
    "print(sum(S1))\n",
    "print(min(S1))\n",
    "S3={1,2,3,4,1}\n",
    "print(S3)"
   ]
  },
  {
   "cell_type": "markdown",
   "id": "cc591f73",
   "metadata": {},
   "source": [
    "### Dictionaries"
   ]
  },
  {
   "cell_type": "code",
   "execution_count": 1,
   "id": "a04685f1",
   "metadata": {},
   "outputs": [
    {
     "name": "stdout",
     "output_type": "stream",
     "text": [
      "pakhi\n",
      "{1: 'pakhi', 2: 'rupal', 3: 'kishna', 4: 'sahil'}\n",
      "{1: 'pakhi', 2: 'rupal', 3: 'kishna'}\n",
      "dict_keys([1, 2, 3])\n",
      "dict_values(['pakhi', 'rupal', 'kishna'])\n",
      "not found\n"
     ]
    }
   ],
   "source": [
    "data={1:\"pakhi\",2:\"parul\",3:\"kishna\"} #stores data in key-value pairs\n",
    "#unordered, changeable, indexed\n",
    "print(data[1]) #here indexing includes keys\n",
    "data[2]=\"rupal\" #changing\n",
    "data[4]=\"sahil\" #adding  \n",
    "print(data)\n",
    "del(data[4]) #deleting\n",
    "print(data)\n",
    "print(data.keys()) #printing keys and values\n",
    "print(data.values())\n",
    "print(data.get(4,\"not found\"))"
   ]
  },
  {
   "cell_type": "code",
   "execution_count": 5,
   "id": "77d5f8d9",
   "metadata": {},
   "outputs": [
    {
     "name": "stdout",
     "output_type": "stream",
     "text": [
      "1\n",
      "2\n",
      "3\n",
      "pakhi\n",
      "rupal\n",
      "kishna\n",
      "(1, 'pakhi')\n",
      "(2, 'rupal')\n",
      "(3, 'kishna')\n",
      "{'car1': {'merecedes': 1960}, 'car2': {'audi': 1970}}\n",
      "<class 'dict'>\n",
      "1960\n"
     ]
    }
   ],
   "source": [
    "data={1:\"pakhi\",2:\"rupal\",3:\"kishna\"}\n",
    "# for loop for printing keys & values\n",
    "for x in data:\n",
    "    print(x)\n",
    "for x in data.values():\n",
    "    print(x)\n",
    "for x in data.items():\n",
    "    print(x)\n",
    "#nested dictionary\n",
    "car1_model={\"merecedes\":1960}\n",
    "car2_model={\"audi\":1970}\n",
    "car_type={\"car1\":car1_model,\"car2\":car2_model}\n",
    "print(car_type)\n",
    "print(type(car_type))\n",
    "print(car_type[\"car1\"][\"merecedes\"])"
   ]
  },
  {
   "cell_type": "code",
   "execution_count": 6,
   "id": "49e4c9e3",
   "metadata": {},
   "outputs": [
    {
     "name": "stdout",
     "output_type": "stream",
     "text": [
      "False\n",
      "True\n",
      "True\n",
      "True\n",
      "False\n",
      "True\n",
      "False\n",
      "True\n",
      "False\n",
      "False\n"
     ]
    }
   ],
   "source": [
    "name1=\"Pakhichangia2\"\n",
    "name2=\"PAKHI\"\n",
    "name3=\" \"\n",
    "name4=\"\"\n",
    "print(name1.isalpha()) #spaces are not allowed\n",
    "print(name1.isalnum()) #spaces are not allowed\n",
    "print(name2.isalnum())\n",
    "print(name1.istitle()) #if the string contains title wrds i.e.  only first alphabet capital, if there is another alphabet capital, returns false\n",
    "print(name1.isdigit()) #if all the numbers #spaces are not allowed\n",
    "print(name2.isupper()) #if all the chars are upper\n",
    "print(name1.islower())\n",
    "print(name3.isspace())#if all the chars have space\n",
    "print(name4.isspace())\n",
    "print(name1.startswith('p')) #case sensitive"
   ]
  },
  {
   "cell_type": "markdown",
   "id": "fecd50b6",
   "metadata": {},
   "source": [
    "## Boolean relational and logical operators"
   ]
  },
  {
   "cell_type": "code",
   "execution_count": 76,
   "id": "a07b7ab3",
   "metadata": {},
   "outputs": [
    {
     "name": "stdout",
     "output_type": "stream",
     "text": [
      "1\n",
      "False\n",
      "True\n",
      "True\n",
      "True\n",
      "False\n"
     ]
    }
   ],
   "source": [
    "print(True-False) #true=1, false=0\n",
    "print(True and False)\n",
    "print(True or False)\n",
    "print(True and True)\n",
    "print(True or True)\n",
    "name1=\"pakhi\"\n",
    "name2=\"changia\"\n",
    "print(name1.isdigit() and name2.isalpha())"
   ]
  }
 ],
 "metadata": {
  "kernelspec": {
   "display_name": "Python 3 (ipykernel)",
   "language": "python",
   "name": "python3"
  },
  "language_info": {
   "codemirror_mode": {
    "name": "ipython",
    "version": 3
   },
   "file_extension": ".py",
   "mimetype": "text/x-python",
   "name": "python",
   "nbconvert_exporter": "python",
   "pygments_lexer": "ipython3",
   "version": "3.9.7"
  }
 },
 "nbformat": 4,
 "nbformat_minor": 5
}
